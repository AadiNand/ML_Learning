{
 "cells": [
  {
   "cell_type": "code",
   "execution_count": 23,
   "metadata": {},
   "outputs": [],
   "source": [
    "from PIL import Image\n",
    "import numpy as np\n",
    "import pandas as pd\n",
    "from sklearn.svm import SVC\n",
    "import cv2\n",
    "import glob\n",
    "import math\n",
    "import os\n",
    "import numpy as np\n",
    "from sklearn import svm\n",
    "from sklearn.metrics import accuracy_score\n",
    "from matplotlib import pyplot as plt\n",
    "import time"
   ]
  },
  {
   "cell_type": "code",
   "execution_count": 2,
   "metadata": {},
   "outputs": [],
   "source": [
    "def image_to_feature_vector(image, size=(300, 300)):\n",
    "    return cv2.resize(image, size)"
   ]
  },
  {
   "cell_type": "code",
   "execution_count": 3,
   "metadata": {},
   "outputs": [],
   "source": [
    "#input pothole with canny edge and others\n",
    "number=1\n",
    "pot = 343\n",
    "train1 = []\n",
    "for i in range(pot):\n",
    "    var = \"C:/Users/subhashis sengupta/Desktop/pothole images/trial/pothole/\" + str(number) + \".jpg\"\n",
    "    img = cv2.imread(var,cv2.IMREAD_GRAYSCALE)\n",
    "    r = image_to_feature_vector(img)\n",
    "    \n",
    "    blur = cv2.GaussianBlur(r,(5,5),0)\n",
    "    ret3,th3 = cv2.threshold(blur,0,255,cv2.THRESH_BINARY+cv2.THRESH_OTSU)\n",
    "    edges = cv2.Canny(th3,100,200)\n",
    "    \n",
    "    data = np.array(edges)\n",
    "    flattened = data.flatten()\n",
    "    train1.append(flattened)\n",
    "    number = number + 1"
   ]
  },
  {
   "cell_type": "code",
   "execution_count": 9,
   "metadata": {},
   "outputs": [],
   "source": [
    "#input plain with canny edge and others\n",
    "number=1\n",
    "npot = 355\n",
    "\n",
    "for i in range(npot):\n",
    "    var = \"C:/Users/subhashis sengupta/Desktop/pothole images/trial/plain/\" + str(number) + \".jpg\"\n",
    "    img = cv2.imread(var,cv2.IMREAD_GRAYSCALE)\n",
    "    r = image_to_feature_vector(img)\n",
    "    \n",
    "    blur = cv2.GaussianBlur(r,(5,5),0)\n",
    "    ret3,th3 = cv2.threshold(blur,0,255,cv2.THRESH_BINARY+cv2.THRESH_OTSU)\n",
    "    edges = cv2.Canny(th3,100,200)\n",
    "    \n",
    "    data = np.array(edges)\n",
    "    flattened = data.flatten()\n",
    "    train1.append(flattened)\n",
    "    number = number + 1"
   ]
  },
  {
   "cell_type": "code",
   "execution_count": 10,
   "metadata": {},
   "outputs": [],
   "source": [
    "y = []\n",
    "for i in range(pot):\n",
    "    y.append(1)\n",
    "for i in range(npot):\n",
    "    y.append(0)"
   ]
  },
  {
   "cell_type": "code",
   "execution_count": 12,
   "metadata": {},
   "outputs": [
    {
     "data": {
      "text/plain": [
       "SVC(C=1.0, break_ties=False, cache_size=200, class_weight=None, coef0=0.0,\n",
       "    decision_function_shape='ovr', degree=3, gamma='scale', kernel='rbf',\n",
       "    max_iter=-1, probability=True, random_state=None, shrinking=True, tol=0.001,\n",
       "    verbose=False)"
      ]
     },
     "execution_count": 12,
     "metadata": {},
     "output_type": "execute_result"
    }
   ],
   "source": [
    "\n",
    "start_time = time.time()\n",
    "cno=SVC(probability=True)\n",
    "cno.fit(train1,y)\n"
   ]
  },
  {
   "cell_type": "code",
   "execution_count": 14,
   "metadata": {},
   "outputs": [
    {
     "name": "stdout",
     "output_type": "stream",
     "text": [
      "[1 0 0 0 1 1 0 0]\n"
     ]
    }
   ],
   "source": [
    "#testing pothole with canny edge and others\n",
    "number=1\n",
    "pot = 8\n",
    "test = []\n",
    "for i in range(pot):\n",
    "    var = \"C:/Users/subhashis sengupta/Desktop/pothole images/My Dataset/test/Pothole/\" + str(number) + \".jpg\"\n",
    "    img = cv2.imread(var,cv2.IMREAD_GRAYSCALE)\n",
    "    r = image_to_feature_vector(img)\n",
    "    \n",
    "    blur = cv2.GaussianBlur(r,(5,5),0)\n",
    "    ret3,th3 = cv2.threshold(blur,0,255,cv2.THRESH_BINARY+cv2.THRESH_OTSU)\n",
    "    edges = cv2.Canny(th3,100,200)\n",
    "    \n",
    "    data = np.array(edges)\n",
    "    flattened = data.flatten()\n",
    "    test.append(flattened)\n",
    "    number = number + 1\n",
    "    \n",
    "print(cno.predict(test))"
   ]
  },
  {
   "cell_type": "code",
   "execution_count": 15,
   "metadata": {},
   "outputs": [
    {
     "name": "stdout",
     "output_type": "stream",
     "text": [
      "[0 0 0 0 0 0 0 0]\n"
     ]
    }
   ],
   "source": [
    "#testing pothole with canny edge and others\n",
    "number=1\n",
    "npot = 8\n",
    "test = []\n",
    "for i in range(npot):\n",
    "    var = \"C:/Users/subhashis sengupta/Desktop/pothole images/My Dataset/test/Plain/\" + str(number) + \".jpg\"\n",
    "    img = cv2.imread(var,cv2.IMREAD_GRAYSCALE)\n",
    "    r = image_to_feature_vector(img)\n",
    "    \n",
    "    blur = cv2.GaussianBlur(r,(5,5),0)\n",
    "    ret3,th3 = cv2.threshold(blur,0,255,cv2.THRESH_BINARY+cv2.THRESH_OTSU)\n",
    "    edges = cv2.Canny(th3,100,200)\n",
    "    \n",
    "    data = np.array(edges)\n",
    "    flattened = data.flatten()\n",
    "    test.append(flattened)\n",
    "    number = number + 1\n",
    "    \n",
    "print(cno.predict(test))"
   ]
  },
  {
   "cell_type": "code",
   "execution_count": 22,
   "metadata": {},
   "outputs": [],
   "source": [
    "number=1\n",
    "npot = 8\n",
    "test = []\n",
    "for i in range(npot):\n",
    "    var = \"C:/Users/subhashis sengupta/Desktop/pothole images/My Dataset/test/Pothole/\" + str(number) + \".jpg\"\n",
    "    img = cv2.imread(var,cv2.IMREAD_GRAYSCALE)\n",
    "    r = image_to_feature_vector(img)\n",
    "    \n",
    "    blur = cv2.GaussianBlur(r,(5,5),0)\n",
    "    ret3,th3 = cv2.threshold(blur,0,255,cv2.THRESH_BINARY+cv2.THRESH_OTSU)\n",
    "    edges = cv2.Canny(th3,100,200)\n",
    "    \n",
    "    cv2.imshow('thresholding,',edges)\n",
    "    cv2.waitKey(0)\n",
    "    cv2.destroyAllWindows()\n",
    "    number=number+1"
   ]
  },
  {
   "cell_type": "code",
   "execution_count": 6,
   "metadata": {},
   "outputs": [],
   "source": [
    "def nothing():\n",
    "    pass"
   ]
  },
  {
   "cell_type": "code",
   "execution_count": 8,
   "metadata": {},
   "outputs": [
    {
     "data": {
      "text/plain": [
       "'\\nnumber=1\\npot=8\\n\\nwn=\\'thrshhhhh\\'\\ncv2.namedWindow(wn)\\ncv2.createTrackbar(\\'low\\', wn , 0, 255, nothing)\\ncv2.createTrackbar(\\'high\\', wn , 0, 255, nothing)\\n\\nfor i in range(pot):\\n    var = \"C:/Users/subhashis sengupta/Desktop/pothole images/My Dataset/test/Pothole/\" + str(number) + \".jpg\"\\n    img=cv2.imread(var,cv2.IMREAD_GRAYSCALE)\\n    \\n    while(True):\\n        \\n        v_low = cv2.getTrackbarPos(\\'low\\', wn)\\n        v_high =cv2.getTrackbarPos(\\'high\\', wn)\\n        d,out=cv2.threshold(img, v_low, v_high, 0 )\\n    \\n        cv2.imshow(wn,out)\\n        \\n        if(cv2.waitKey(10)==ord(\\'q\\')):\\n            break\\n    \\n    \\n    #cv2.destroyAllWindows()\\n    \\n    number=number +1\\n'"
      ]
     },
     "execution_count": 8,
     "metadata": {},
     "output_type": "execute_result"
    }
   ],
   "source": [
    "'''\n",
    "number=1\n",
    "pot=8\n",
    "\n",
    "wn='thrshhhhh'\n",
    "cv2.namedWindow(wn)\n",
    "cv2.createTrackbar('low', wn , 0, 255, nothing)\n",
    "cv2.createTrackbar('high', wn , 0, 255, nothing)\n",
    "\n",
    "for i in range(pot):\n",
    "    var = \"C:/Users/subhashis sengupta/Desktop/pothole images/My Dataset/test/Pothole/\" + str(number) + \".jpg\"\n",
    "    img=cv2.imread(var,cv2.IMREAD_GRAYSCALE)\n",
    "    \n",
    "    while(True):\n",
    "        \n",
    "        v_low = cv2.getTrackbarPos('low', wn)\n",
    "        v_high =cv2.getTrackbarPos('high', wn)\n",
    "        d,out=cv2.threshold(img, v_low, v_high, 0 )\n",
    "    \n",
    "        cv2.imshow(wn,out)\n",
    "        \n",
    "        if(cv2.waitKey(10)==ord('q')):\n",
    "            break\n",
    "    \n",
    "    \n",
    "    #cv2.destroyAllWindows()\n",
    "    \n",
    "    number=number +1\n",
    "'''"
   ]
  }
 ],
 "metadata": {
  "kernelspec": {
   "display_name": "Python 3",
   "language": "python",
   "name": "python3"
  },
  "language_info": {
   "codemirror_mode": {
    "name": "ipython",
    "version": 3
   },
   "file_extension": ".py",
   "mimetype": "text/x-python",
   "name": "python",
   "nbconvert_exporter": "python",
   "pygments_lexer": "ipython3",
   "version": "3.7.6"
  }
 },
 "nbformat": 4,
 "nbformat_minor": 4
}
