{
 "cells": [
  {
   "cell_type": "code",
   "execution_count": 56,
   "metadata": {},
   "outputs": [],
   "source": [
    "from PIL import Image\n",
    "import numpy as np\n",
    "import pandas as pd\n",
    "from sklearn.svm import SVC\n",
    "import cv2\n",
    "import glob\n",
    "import math\n",
    "import os\n",
    "import numpy as np\n",
    "from sklearn import svm\n",
    "from sklearn.metrics import accuracy_score\n",
    "from matplotlib import pyplot as plt\n",
    "import time"
   ]
  },
  {
   "cell_type": "code",
   "execution_count": 57,
   "metadata": {},
   "outputs": [],
   "source": [
    "def image_to_feature_vector(image, size=(300, 300)):\n",
    "    return cv2.resize(image, size)"
   ]
  },
  {
   "cell_type": "code",
   "execution_count": 58,
   "metadata": {},
   "outputs": [],
   "source": [
    "def shi_tomasi_corner_detection(image,corners=50,Quality_Level=0.01,Euclidean_Distance=10):\n",
    "    gray = cv2.cvtColor(image, cv2.COLOR_BGR2GRAY)\n",
    "    corners = cv2.goodFeaturesToTrack(gray,corners,Quality_Level,Euclidean_Distance)\n",
    "    corners = np.int0(corners)\n",
    "    clr=(0,0,255)\n",
    "    for i in corners:\n",
    "        x,y = i.ravel()\n",
    "        cv2.circle(image,(x,y),3,clr,-1)\n",
    "    return image"
   ]
  },
  {
   "cell_type": "code",
   "execution_count": 59,
   "metadata": {},
   "outputs": [],
   "source": [
    "#input of pothole images with corner detection\n",
    "number = 1\n",
    "train = []\n",
    "pot = 343\n",
    "\n",
    "for i in range(pot):\n",
    "    var = \"C:/Users/subhashis sengupta/Desktop/pothole images/trial/pothole/\" + str(number) + \".jpg\"\n",
    "    pic = cv2.imread(var)\n",
    "    \n",
    "    corner = image_to_feature_vector(pic)\n",
    "    corner1 = shi_tomasi_corner_detection(corner)\n",
    "    \n",
    "    edges = cv2.Canny(corner,100,200)\n",
    "    \n",
    "    data = np.array(corner1)\n",
    "    data2 = np.array(edges)\n",
    "    \n",
    "    flattened = data.flatten()\n",
    "    flattened2 = data2.flatten()\n",
    "    temp=np.concatenate([flattened,flattened2])\n",
    "    \n",
    "    train.append(temp)\n",
    "    number = number + 1  "
   ]
  },
  {
   "cell_type": "code",
   "execution_count": 60,
   "metadata": {},
   "outputs": [
    {
     "name": "stdout",
     "output_type": "stream",
     "text": [
      "16.069234371185303\n"
     ]
    }
   ],
   "source": [
    "start_time = time.time()\n",
    "#input of plain images with corner detection\n",
    "number = 1\n",
    "npot = 355\n",
    "\n",
    "for i in range(npot):\n",
    "    var = \"C:/Users/subhashis sengupta/Desktop/pothole images/trial/plain/\" + str(number) + \".jpg\"\n",
    "    pic = cv2.imread(var)\n",
    "    \n",
    "    corner = image_to_feature_vector(pic)\n",
    "    corner1 = shi_tomasi_corner_detection(corner)\n",
    "    \n",
    "    edges = cv2.Canny(corner,100,200)\n",
    "    \n",
    "    data = np.array(corner1)\n",
    "    data2 = np.array(edges)\n",
    "    \n",
    "    flattened = data.flatten()\n",
    "    flattened2 = data2.flatten()\n",
    "    temp=np.concatenate([flattened,flattened2])\n",
    "    \n",
    "    train.append(temp)\n",
    "    number = number + 1 \n",
    "print(time.time() - start_time)"
   ]
  },
  {
   "cell_type": "code",
   "execution_count": 61,
   "metadata": {},
   "outputs": [],
   "source": [
    "y = []\n",
    "for i in range(pot):\n",
    "    y.append(1)\n",
    "for i in range(npot):\n",
    "    y.append(0)"
   ]
  },
  {
   "cell_type": "code",
   "execution_count": 62,
   "metadata": {},
   "outputs": [
    {
     "name": "stdout",
     "output_type": "stream",
     "text": [
      "1553.6264653205872\n"
     ]
    }
   ],
   "source": [
    "start_time = time.time()\n",
    "meh=SVC(probability=True)\n",
    "meh.fit(train,y)\n",
    "print(time.time() - start_time)"
   ]
  },
  {
   "cell_type": "code",
   "execution_count": 50,
   "metadata": {},
   "outputs": [
    {
     "name": "stdout",
     "output_type": "stream",
     "text": [
      "[1 0 1 1 1 1 0 0]\n"
     ]
    }
   ],
   "source": [
    "#output of pothole images with corner detection\n",
    "number = 1\n",
    "pot = 8\n",
    "test=[]\n",
    "for i in range(pot):\n",
    "    var = \"C:/Users/subhashis sengupta/Desktop/pothole images/My Dataset/test/Pothole/\" + str(number) + \".jpg\"\n",
    "    pic = cv2.imread(var)\n",
    "    \n",
    "    corner = image_to_feature_vector(pic)\n",
    "    corner1 = shi_tomasi_corner_detection(corner)\n",
    "    \n",
    "    edges = cv2.Canny(corner,100,200)\n",
    "    \n",
    "    data = np.array(corner1)\n",
    "    data2 = np.array(edges)\n",
    "    \n",
    "    flattened = data.flatten()\n",
    "    flattened2 = data2.flatten()\n",
    "    temp=np.concatenate([flattened,flattened2])\n",
    "    \n",
    "    test.append(temp)\n",
    "    number = number + 1 \n",
    "\n",
    "print(meh.predict(test))"
   ]
  },
  {
   "cell_type": "code",
   "execution_count": 51,
   "metadata": {},
   "outputs": [
    {
     "name": "stdout",
     "output_type": "stream",
     "text": [
      "[1 0 0 1 0 0 0 0]\n"
     ]
    }
   ],
   "source": [
    "#output of pothole images with corner detection\n",
    "number = 1\n",
    "pot = 8\n",
    "test=[]\n",
    "for i in range(pot):\n",
    "    var = \"C:/Users/subhashis sengupta/Desktop/pothole images/My Dataset/test/Plain/\" + str(number) + \".jpg\"\n",
    "    pic = cv2.imread(var)\n",
    "    \n",
    "    corner = image_to_feature_vector(pic)\n",
    "    corner1 = shi_tomasi_corner_detection(corner)\n",
    "    \n",
    "    edges = cv2.Canny(corner,100,200)\n",
    "    \n",
    "    data = np.array(corner1)\n",
    "    data2 = np.array(edges)\n",
    "    \n",
    "    flattened = data.flatten()\n",
    "    flattened2 = data2.flatten()\n",
    "    temp=np.concatenate([flattened,flattened2])\n",
    "    \n",
    "    test.append(temp)\n",
    "    number = number + 1 \n",
    "\n",
    "print(meh.predict(test))"
   ]
  },
  {
   "cell_type": "code",
   "execution_count": 12,
   "metadata": {},
   "outputs": [
    {
     "name": "stdout",
     "output_type": "stream",
     "text": [
      "[1 1 1 1 1 1 0 0]\n"
     ]
    }
   ],
   "source": [
    "#output of pothole images with corner detection\n",
    "number = 1\n",
    "test = []\n",
    "pot = 8\n",
    "\n",
    "for i in range(pot):\n",
    "    var = \"C:/Users/subhashis sengupta/Desktop/pothole images/My Dataset/test/Pothole/\" + str(number) + \".jpg\"\n",
    "    pic = cv2.imread(var)\n",
    "    corner = image_to_feature_vector(pic)\n",
    "    corner1 = shi_tomasi_corner_detection(corner)\n",
    "    \n",
    "    data = np.array(corner1)\n",
    "    flattened = data.flatten()\n",
    "    test.append(flattened)\n",
    "    number = number + 1 \n",
    "\n",
    "print(meh.predict(test))"
   ]
  },
  {
   "cell_type": "code",
   "execution_count": 13,
   "metadata": {},
   "outputs": [
    {
     "name": "stdout",
     "output_type": "stream",
     "text": [
      "[1 1 1 1 0 0 0 0]\n"
     ]
    }
   ],
   "source": [
    "#output of pothole images with corner detection\n",
    "number = 1\n",
    "test = []\n",
    "npot = 8\n",
    "\n",
    "for i in range(npot):\n",
    "    var = \"C:/Users/subhashis sengupta/Desktop/pothole images/My Dataset/test/Plain/\" + str(number) + \".jpg\"\n",
    "    pic = cv2.imread(var)\n",
    "    corner = image_to_feature_vector(pic)\n",
    "    corner1 = shi_tomasi_corner_detection(corner)\n",
    "    cv2.imshow('og',corner)\n",
    "    cv2.imshow('canny',corner1)\n",
    "    cv2.waitKey(0)\n",
    "    cv2.destroyAllWindows()\n",
    "    data = np.array(corner1)\n",
    "    flattened = data.flatten()\n",
    "    test.append(flattened)\n",
    "    number = number + 1 \n",
    "\n",
    "print(meh.predict(test))"
   ]
  },
  {
   "cell_type": "code",
   "execution_count": null,
   "metadata": {},
   "outputs": [],
   "source": []
  }
 ],
 "metadata": {
  "kernelspec": {
   "display_name": "Python 3",
   "language": "python",
   "name": "python3"
  },
  "language_info": {
   "codemirror_mode": {
    "name": "ipython",
    "version": 3
   },
   "file_extension": ".py",
   "mimetype": "text/x-python",
   "name": "python",
   "nbconvert_exporter": "python",
   "pygments_lexer": "ipython3",
   "version": "3.7.6"
  }
 },
 "nbformat": 4,
 "nbformat_minor": 4
}
