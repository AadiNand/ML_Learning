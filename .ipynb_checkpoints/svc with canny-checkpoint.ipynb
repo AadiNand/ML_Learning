{
 "cells": [
  {
   "cell_type": "code",
   "execution_count": 1,
   "metadata": {},
   "outputs": [],
   "source": [
    "from PIL import Image\n",
    "import numpy as np\n",
    "import pandas as pd\n",
    "from sklearn.svm import SVC\n",
    "import cv2\n",
    "import glob\n",
    "import math\n",
    "import os\n",
    "import numpy as np\n",
    "from sklearn import svm\n",
    "from sklearn.metrics import accuracy_score\n",
    "from matplotlib import pyplot as plt"
   ]
  },
  {
   "cell_type": "code",
   "execution_count": 2,
   "metadata": {},
   "outputs": [],
   "source": [
    "def image_to_feature_vector(image, size=(300, 300)):\n",
    "    return cv2.resize(image, size)"
   ]
  },
  {
   "cell_type": "code",
   "execution_count": 3,
   "metadata": {},
   "outputs": [],
   "source": [
    "#input pothole with canny edge\n",
    "number=1\n",
    "pot = 343\n",
    "train1 = []\n",
    "for i in range(pot):\n",
    "    var = \"C:/Users/subhashis sengupta/Desktop/pothole images/trial/pothole/\" + str(number) + \".jpg\"\n",
    "    img = cv2.imread(var)\n",
    "    r = image_to_feature_vector(img)\n",
    "    edges = cv2.Canny(r,100,200)\n",
    "    data = np.array(edges)\n",
    "    flattened = data.flatten()\n",
    "    train1.append(flattened)\n",
    "    number = number + 1"
   ]
  },
  {
   "cell_type": "code",
   "execution_count": 4,
   "metadata": {},
   "outputs": [],
   "source": [
    "#input plain with canny edge\n",
    "number=1\n",
    "npot = 355\n",
    "for i in range(npot):\n",
    "    var = \"C:/Users/subhashis sengupta/Desktop/pothole images/trial/plain/\" + str(number) + \".jpg\"\n",
    "    img = cv2.imread(var)\n",
    "    r = image_to_feature_vector(img)\n",
    "    edges = cv2.Canny(r,100,200)\n",
    "    data = np.array(edges)\n",
    "    flattened = data.flatten()\n",
    "    train1.append(flattened)\n",
    "    number = number + 1"
   ]
  },
  {
   "cell_type": "code",
   "execution_count": 5,
   "metadata": {},
   "outputs": [],
   "source": [
    "y = []\n",
    "for i in range(pot):\n",
    "    y.append(1)\n",
    "for i in range(npot):\n",
    "    y.append(0)"
   ]
  },
  {
   "cell_type": "code",
   "execution_count": 6,
   "metadata": {},
   "outputs": [
    {
     "data": {
      "text/plain": [
       "SVC(C=1.0, break_ties=False, cache_size=200, class_weight=None, coef0=0.0,\n",
       "    decision_function_shape='ovr', degree=3, gamma='scale', kernel='rbf',\n",
       "    max_iter=-1, probability=True, random_state=None, shrinking=True, tol=0.001,\n",
       "    verbose=False)"
      ]
     },
     "execution_count": 6,
     "metadata": {},
     "output_type": "execute_result"
    }
   ],
   "source": [
    "cn=SVC(probability=True)\n",
    "cn.fit(train1,y)\n"
   ]
  },
  {
   "cell_type": "code",
   "execution_count": 13,
   "metadata": {},
   "outputs": [
    {
     "name": "stdout",
     "output_type": "stream",
     "text": [
      "[1 0 0 1 1 1 0 0]\n"
     ]
    }
   ],
   "source": [
    "#pothole output plain with canny edge\n",
    "number=1\n",
    "pot = 8\n",
    "test1=[]\n",
    "for i in range(pot):\n",
    "    var = \"C:/Users/subhashis sengupta/Desktop/pothole images/My Dataset/test/Pothole/\" + str(number) + \".jpg\"\n",
    "    img = cv2.imread(var)\n",
    "    r = image_to_feature_vector(img)\n",
    "    edges = cv2.Canny(r,100,200)\n",
    "    data = np.array(edges)\n",
    "    flattened = data.flatten()\n",
    "    test1.append(flattened)\n",
    "    number = number + 1\n",
    "\n",
    "print(cn.predict(test1))"
   ]
  },
  {
   "cell_type": "code",
   "execution_count": 17,
   "metadata": {},
   "outputs": [
    {
     "name": "stdout",
     "output_type": "stream",
     "text": [
      "[0 0 0 0 0 0 0 0]\n"
     ]
    }
   ],
   "source": [
    "#plain output plain with canny edge\n",
    "number=1\n",
    "npot = 8\n",
    "test1=[]\n",
    "for i in range(npot):\n",
    "    var = \"C:/Users/subhashis sengupta/Desktop/pothole images/My Dataset/test/Plain/\" + str(number) + \".jpg\"\n",
    "    img = cv2.imread(var)\n",
    "    r = image_to_feature_vector(img)\n",
    "    edges = cv2.Canny(r,100,200)\n",
    "    data = np.array(edges)\n",
    "    flattened = data.flatten()\n",
    "    test1.append(flattened)\n",
    "    number = number + 1\n",
    "\n",
    "print(cn.predict(test1))"
   ]
  }
 ],
 "metadata": {
  "kernelspec": {
   "display_name": "Python 3",
   "language": "python",
   "name": "python3"
  },
  "language_info": {
   "codemirror_mode": {
    "name": "ipython",
    "version": 3
   },
   "file_extension": ".py",
   "mimetype": "text/x-python",
   "name": "python",
   "nbconvert_exporter": "python",
   "pygments_lexer": "ipython3",
   "version": "3.7.6"
  }
 },
 "nbformat": 4,
 "nbformat_minor": 4
}
